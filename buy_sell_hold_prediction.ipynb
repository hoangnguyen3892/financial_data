{
 "cells": [
  {
   "cell_type": "markdown",
   "metadata": {},
   "source": [
    "This kernel used data derived from ```stock_price.py```\n",
    "\n",
    "The aim of this kernel is to analyze stock recomendation (sell, buy or hold), which action should we take while the external features are changed. These features include the stock prices of other companies. "
   ]
  },
  {
   "cell_type": "code",
   "execution_count": 1,
   "metadata": {
    "collapsed": true,
    "deletable": true,
    "editable": true
   },
   "outputs": [],
   "source": [
    "import quandl\n",
    "from collections import Counter\n",
    "\n",
    "import pandas as pd\n",
    "import numpy as np\n",
    "import matplotlib.pyplot as plt\n",
    "import seaborn as sns\n",
    "import pickle\n",
    "\n",
    "%matplotlib inline"
   ]
  },
  {
   "cell_type": "code",
   "execution_count": 2,
   "metadata": {
    "collapsed": false,
    "deletable": true,
    "editable": true
   },
   "outputs": [],
   "source": [
    "from sklearn.metrics import make_scorer, accuracy_score\n",
    "from sklearn.model_selection import KFold, GridSearchCV, cross_val_score\n",
    "\n",
    "from sklearn import svm\n",
    "from sklearn.ensemble import RandomForestClassifier\n",
    "from sklearn.ensemble import GradientBoostingClassifier, AdaBoostClassifier"
   ]
  },
  {
   "cell_type": "code",
   "execution_count": 3,
   "metadata": {
    "collapsed": true,
    "deletable": true,
    "editable": true
   },
   "outputs": [],
   "source": [
    "quandl.ApiConfig.api_key = 'o-yXuCnVqzcxKcUzc6vb'"
   ]
  },
  {
   "cell_type": "markdown",
   "metadata": {
    "deletable": true,
    "editable": true
   },
   "source": [
    "# Load data"
   ]
  },
  {
   "cell_type": "code",
   "execution_count": 4,
   "metadata": {
    "collapsed": false,
    "deletable": true,
    "editable": true
   },
   "outputs": [],
   "source": [
    "with open(\"data/compiled_data.pkl\", \"rb\") as f:\n",
    "    joined_price_data = pickle.load(f)"
   ]
  },
  {
   "cell_type": "code",
   "execution_count": 5,
   "metadata": {
    "collapsed": false,
    "deletable": true,
    "editable": true
   },
   "outputs": [
    {
     "data": {
      "text/html": [
       "<div>\n",
       "<table border=\"1\" class=\"dataframe\">\n",
       "  <thead>\n",
       "    <tr style=\"text-align: right;\">\n",
       "      <th></th>\n",
       "      <th>AAPL</th>\n",
       "      <th>AMZN</th>\n",
       "      <th>JPM</th>\n",
       "      <th>MSFT</th>\n",
       "      <th>TSLA</th>\n",
       "    </tr>\n",
       "    <tr>\n",
       "      <th>Date</th>\n",
       "      <th></th>\n",
       "      <th></th>\n",
       "      <th></th>\n",
       "      <th></th>\n",
       "      <th></th>\n",
       "    </tr>\n",
       "  </thead>\n",
       "  <tbody>\n",
       "    <tr>\n",
       "      <th>2013-01-02</th>\n",
       "      <td>71.777153</td>\n",
       "      <td>257.3100</td>\n",
       "      <td>39.829227</td>\n",
       "      <td>24.583819</td>\n",
       "      <td>35.36</td>\n",
       "    </tr>\n",
       "    <tr>\n",
       "      <th>2013-01-03</th>\n",
       "      <td>70.870627</td>\n",
       "      <td>258.4800</td>\n",
       "      <td>39.748962</td>\n",
       "      <td>24.254492</td>\n",
       "      <td>34.77</td>\n",
       "    </tr>\n",
       "    <tr>\n",
       "      <th>2013-01-04</th>\n",
       "      <td>68.897072</td>\n",
       "      <td>259.1500</td>\n",
       "      <td>40.453510</td>\n",
       "      <td>23.800555</td>\n",
       "      <td>34.40</td>\n",
       "    </tr>\n",
       "    <tr>\n",
       "      <th>2013-01-07</th>\n",
       "      <td>68.491795</td>\n",
       "      <td>268.4592</td>\n",
       "      <td>40.498102</td>\n",
       "      <td>23.756051</td>\n",
       "      <td>34.34</td>\n",
       "    </tr>\n",
       "    <tr>\n",
       "      <th>2013-01-08</th>\n",
       "      <td>68.676131</td>\n",
       "      <td>266.3800</td>\n",
       "      <td>40.578366</td>\n",
       "      <td>23.631441</td>\n",
       "      <td>33.68</td>\n",
       "    </tr>\n",
       "  </tbody>\n",
       "</table>\n",
       "</div>"
      ],
      "text/plain": [
       "                 AAPL      AMZN        JPM       MSFT   TSLA\n",
       "Date                                                        \n",
       "2013-01-02  71.777153  257.3100  39.829227  24.583819  35.36\n",
       "2013-01-03  70.870627  258.4800  39.748962  24.254492  34.77\n",
       "2013-01-04  68.897072  259.1500  40.453510  23.800555  34.40\n",
       "2013-01-07  68.491795  268.4592  40.498102  23.756051  34.34\n",
       "2013-01-08  68.676131  266.3800  40.578366  23.631441  33.68"
      ]
     },
     "execution_count": 5,
     "metadata": {},
     "output_type": "execute_result"
    }
   ],
   "source": [
    "joined_price_data.head()"
   ]
  },
  {
   "cell_type": "code",
   "execution_count": 6,
   "metadata": {
    "collapsed": false,
    "deletable": true,
    "editable": true
   },
   "outputs": [
    {
     "data": {
      "text/plain": [
       "(1008, 5)"
      ]
     },
     "execution_count": 6,
     "metadata": {},
     "output_type": "execute_result"
    }
   ],
   "source": [
    "joined_price_data.shape"
   ]
  },
  {
   "cell_type": "markdown",
   "metadata": {
    "deletable": true,
    "editable": true
   },
   "source": [
    "# Prepare data"
   ]
  },
  {
   "cell_type": "markdown",
   "metadata": {
    "deletable": true,
    "editable": true
   },
   "source": [
    "This part is motivated by [Sentdex](https://pythonprogramming.net/targets-for-machine-learning-labels-python-programming-for-finance/?completed=/preprocessing-for-machine-learning-python-programming-for-finance/)"
   ]
  },
  {
   "cell_type": "code",
   "execution_count": 7,
   "metadata": {
    "collapsed": true,
    "deletable": true,
    "editable": true
   },
   "outputs": [],
   "source": [
    "def process_data_for_labels(ticker):\n",
    "    '''\n",
    "    Compute the change in price within x days (x <= 7)\n",
    "    The label whether buy, sell, hold will be decided based on these information\n",
    "    '''\n",
    "    hm_days = 7\n",
    "    df = joined_price_data\n",
    "    tickers = df.columns.values.tolist()\n",
    "    df.fillna(0, inplace=True)\n",
    "    \n",
    "    for i in range(1,hm_days+1):\n",
    "        df['{}_{}d'.format(ticker,i)] = (df[ticker].shift(-i) - df[ticker]) / df[ticker]\n",
    "        \n",
    "    df.fillna(0, inplace=True)\n",
    "    return tickers, df"
   ]
  },
  {
   "cell_type": "markdown",
   "metadata": {},
   "source": [
    "If the movement:\n",
    "- Larger than ```requirement```: buy. \n",
    "- Lower than -```requirement```: sell. \n",
    "- None of the above: hold"
   ]
  },
  {
   "cell_type": "code",
   "execution_count": 8,
   "metadata": {
    "collapsed": true,
    "deletable": true,
    "editable": true
   },
   "outputs": [],
   "source": [
    "def buy_sell_hold(*args):\n",
    "    '''\n",
    "    1: buy, -1: sell, 0: hold\n",
    "    '''\n",
    "    cols = [c for c in args]\n",
    "    requirement = 0.02 #change in stock price\n",
    "    for col in cols:\n",
    "        if col > requirement:\n",
    "            return 1\n",
    "        if col < -requirement:\n",
    "            return -1\n",
    "    return 0"
   ]
  },
  {
   "cell_type": "code",
   "execution_count": 9,
   "metadata": {
    "collapsed": true,
    "deletable": true,
    "editable": true
   },
   "outputs": [],
   "source": [
    "def extract_featuresets(ticker):\n",
    "    tickers, df = process_data_for_labels(ticker)\n",
    "\n",
    "    df['{}_target'.format(ticker)] = list(map( buy_sell_hold,\n",
    "                                               df['{}_1d'.format(ticker)],\n",
    "                                               df['{}_2d'.format(ticker)],\n",
    "                                               df['{}_3d'.format(ticker)],\n",
    "                                               df['{}_4d'.format(ticker)],\n",
    "                                               df['{}_5d'.format(ticker)],\n",
    "                                               df['{}_6d'.format(ticker)],\n",
    "                                               df['{}_7d'.format(ticker)] ))\n",
    "   \n",
    "    vals = df['{}_target'.format(ticker)].values.tolist()\n",
    "    str_vals = [str(i) for i in vals]\n",
    "    print('Data spread:',Counter(str_vals))\n",
    "    \n",
    "    df.fillna(0, inplace=True)\n",
    "    df = df.replace([np.inf, -np.inf], np.nan)\n",
    "    df.dropna(inplace=True)\n",
    "\n",
    "    df_vals = df[[ticker for ticker in tickers]].pct_change()\n",
    "    df_vals = df_vals.replace([np.inf, -np.inf], 0)\n",
    "    df_vals.fillna(0, inplace=True)\n",
    "    \n",
    "    X = df_vals.values\n",
    "    y = df['{}_target'.format(ticker)].values\n",
    "    \n",
    "    return X,y,df, df_vals"
   ]
  },
  {
   "cell_type": "code",
   "execution_count": 10,
   "metadata": {
    "collapsed": false,
    "deletable": true,
    "editable": true
   },
   "outputs": [
    {
     "name": "stdout",
     "output_type": "stream",
     "text": [
      "Data spread: Counter({'1': 419, '-1': 393, '0': 196})\n"
     ]
    }
   ],
   "source": [
    "X, y, df, df_vals = extract_featuresets('AAPL')"
   ]
  },
  {
   "cell_type": "code",
   "execution_count": 11,
   "metadata": {
    "collapsed": false,
    "deletable": true,
    "editable": true
   },
   "outputs": [
    {
     "data": {
      "text/plain": [
       "(1008, 5)"
      ]
     },
     "execution_count": 11,
     "metadata": {},
     "output_type": "execute_result"
    }
   ],
   "source": [
    "X.shape"
   ]
  },
  {
   "cell_type": "code",
   "execution_count": 12,
   "metadata": {
    "collapsed": false,
    "deletable": true,
    "editable": true
   },
   "outputs": [
    {
     "data": {
      "text/plain": [
       "array([-1, -1, -1, ...,  0,  0,  0])"
      ]
     },
     "execution_count": 12,
     "metadata": {},
     "output_type": "execute_result"
    }
   ],
   "source": [
    "y"
   ]
  },
  {
   "cell_type": "code",
   "execution_count": 13,
   "metadata": {
    "collapsed": false,
    "deletable": true,
    "editable": true
   },
   "outputs": [
    {
     "data": {
      "text/html": [
       "<div>\n",
       "<table border=\"1\" class=\"dataframe\">\n",
       "  <thead>\n",
       "    <tr style=\"text-align: right;\">\n",
       "      <th></th>\n",
       "      <th>AAPL</th>\n",
       "      <th>AMZN</th>\n",
       "      <th>JPM</th>\n",
       "      <th>MSFT</th>\n",
       "      <th>TSLA</th>\n",
       "      <th>AAPL_1d</th>\n",
       "      <th>AAPL_2d</th>\n",
       "      <th>AAPL_3d</th>\n",
       "      <th>AAPL_4d</th>\n",
       "      <th>AAPL_5d</th>\n",
       "      <th>AAPL_6d</th>\n",
       "      <th>AAPL_7d</th>\n",
       "      <th>AAPL_target</th>\n",
       "    </tr>\n",
       "    <tr>\n",
       "      <th>Date</th>\n",
       "      <th></th>\n",
       "      <th></th>\n",
       "      <th></th>\n",
       "      <th></th>\n",
       "      <th></th>\n",
       "      <th></th>\n",
       "      <th></th>\n",
       "      <th></th>\n",
       "      <th></th>\n",
       "      <th></th>\n",
       "      <th></th>\n",
       "      <th></th>\n",
       "      <th></th>\n",
       "    </tr>\n",
       "  </thead>\n",
       "  <tbody>\n",
       "    <tr>\n",
       "      <th>2013-01-02</th>\n",
       "      <td>71.777153</td>\n",
       "      <td>257.3100</td>\n",
       "      <td>39.829227</td>\n",
       "      <td>24.583819</td>\n",
       "      <td>35.36</td>\n",
       "      <td>-0.012630</td>\n",
       "      <td>-0.040125</td>\n",
       "      <td>-0.045772</td>\n",
       "      <td>-0.043203</td>\n",
       "      <td>-0.058157</td>\n",
       "      <td>-0.046482</td>\n",
       "      <td>-0.052329</td>\n",
       "      <td>-1</td>\n",
       "    </tr>\n",
       "    <tr>\n",
       "      <th>2013-01-03</th>\n",
       "      <td>70.870627</td>\n",
       "      <td>258.4800</td>\n",
       "      <td>39.748962</td>\n",
       "      <td>24.254492</td>\n",
       "      <td>34.77</td>\n",
       "      <td>-0.027847</td>\n",
       "      <td>-0.033566</td>\n",
       "      <td>-0.030965</td>\n",
       "      <td>-0.046110</td>\n",
       "      <td>-0.034285</td>\n",
       "      <td>-0.040207</td>\n",
       "      <td>-0.074426</td>\n",
       "      <td>-1</td>\n",
       "    </tr>\n",
       "    <tr>\n",
       "      <th>2013-01-04</th>\n",
       "      <td>68.897072</td>\n",
       "      <td>259.1500</td>\n",
       "      <td>40.453510</td>\n",
       "      <td>23.800555</td>\n",
       "      <td>34.40</td>\n",
       "      <td>-0.005882</td>\n",
       "      <td>-0.003207</td>\n",
       "      <td>-0.018786</td>\n",
       "      <td>-0.006622</td>\n",
       "      <td>-0.012713</td>\n",
       "      <td>-0.047913</td>\n",
       "      <td>-0.077951</td>\n",
       "      <td>-1</td>\n",
       "    </tr>\n",
       "    <tr>\n",
       "      <th>2013-01-07</th>\n",
       "      <td>68.491795</td>\n",
       "      <td>268.4592</td>\n",
       "      <td>40.498102</td>\n",
       "      <td>23.756051</td>\n",
       "      <td>34.34</td>\n",
       "      <td>0.002691</td>\n",
       "      <td>-0.012980</td>\n",
       "      <td>-0.000744</td>\n",
       "      <td>-0.006872</td>\n",
       "      <td>-0.042279</td>\n",
       "      <td>-0.072495</td>\n",
       "      <td>-0.033995</td>\n",
       "      <td>-1</td>\n",
       "    </tr>\n",
       "    <tr>\n",
       "      <th>2013-01-08</th>\n",
       "      <td>68.676131</td>\n",
       "      <td>266.3800</td>\n",
       "      <td>40.578366</td>\n",
       "      <td>23.631441</td>\n",
       "      <td>33.68</td>\n",
       "      <td>-0.015629</td>\n",
       "      <td>-0.003427</td>\n",
       "      <td>-0.009537</td>\n",
       "      <td>-0.044850</td>\n",
       "      <td>-0.074984</td>\n",
       "      <td>-0.036588</td>\n",
       "      <td>-0.043079</td>\n",
       "      <td>-1</td>\n",
       "    </tr>\n",
       "  </tbody>\n",
       "</table>\n",
       "</div>"
      ],
      "text/plain": [
       "                 AAPL      AMZN        JPM       MSFT   TSLA   AAPL_1d  \\\n",
       "Date                                                                     \n",
       "2013-01-02  71.777153  257.3100  39.829227  24.583819  35.36 -0.012630   \n",
       "2013-01-03  70.870627  258.4800  39.748962  24.254492  34.77 -0.027847   \n",
       "2013-01-04  68.897072  259.1500  40.453510  23.800555  34.40 -0.005882   \n",
       "2013-01-07  68.491795  268.4592  40.498102  23.756051  34.34  0.002691   \n",
       "2013-01-08  68.676131  266.3800  40.578366  23.631441  33.68 -0.015629   \n",
       "\n",
       "             AAPL_2d   AAPL_3d   AAPL_4d   AAPL_5d   AAPL_6d   AAPL_7d  \\\n",
       "Date                                                                     \n",
       "2013-01-02 -0.040125 -0.045772 -0.043203 -0.058157 -0.046482 -0.052329   \n",
       "2013-01-03 -0.033566 -0.030965 -0.046110 -0.034285 -0.040207 -0.074426   \n",
       "2013-01-04 -0.003207 -0.018786 -0.006622 -0.012713 -0.047913 -0.077951   \n",
       "2013-01-07 -0.012980 -0.000744 -0.006872 -0.042279 -0.072495 -0.033995   \n",
       "2013-01-08 -0.003427 -0.009537 -0.044850 -0.074984 -0.036588 -0.043079   \n",
       "\n",
       "            AAPL_target  \n",
       "Date                     \n",
       "2013-01-02           -1  \n",
       "2013-01-03           -1  \n",
       "2013-01-04           -1  \n",
       "2013-01-07           -1  \n",
       "2013-01-08           -1  "
      ]
     },
     "execution_count": 13,
     "metadata": {},
     "output_type": "execute_result"
    }
   ],
   "source": [
    "df.head()"
   ]
  },
  {
   "cell_type": "markdown",
   "metadata": {
    "deletable": true,
    "editable": true
   },
   "source": [
    "# Make prediction"
   ]
  },
  {
   "cell_type": "code",
   "execution_count": 14,
   "metadata": {
    "collapsed": true,
    "deletable": true,
    "editable": true
   },
   "outputs": [],
   "source": [
    "def modelTest(clf, train, labels):\n",
    "    '''Compute cross-validation score to see the goodness of each model'''\n",
    "    cv = KFold(n_splits=5,shuffle=True,random_state=7).split(train)\n",
    "    accuracy = make_scorer(accuracy_score)\n",
    "    crossed_score = cross_val_score(clf, train, labels, cv=cv, scoring=accuracy)\n",
    "    score=[crossed_score.mean()]\n",
    "    return score"
   ]
  },
  {
   "cell_type": "code",
   "execution_count": 15,
   "metadata": {
    "collapsed": true,
    "deletable": true,
    "editable": true
   },
   "outputs": [],
   "source": [
    "def modelPlot(result_dict):\n",
    "    '''Plot the accuracy of all model'''\n",
    "    result = pd.DataFrame.from_dict(result_dict, orient='index')\n",
    "    result.columns = [\"Score\"] \n",
    "    #result = result.sort(columns=[\"Score\"],ascending=False)\n",
    "    result = result.sort_values(by=[\"Score\"],ascending=False)\n",
    "    result.plot(kind=\"bar\",title=\"Model Scores\")\n",
    "    axes = plt.gca()\n",
    "    axes.set_ylim([0,1])\n",
    "    return result"
   ]
  },
  {
   "cell_type": "code",
   "execution_count": 16,
   "metadata": {
    "collapsed": true,
    "deletable": true,
    "editable": true
   },
   "outputs": [],
   "source": [
    "def modelFit(train, labels):\n",
    "    '''Train model'''\n",
    "    result_dict = {}\n",
    "    \n",
    "    clf = svm.SVC(kernel='rbf')\n",
    "    result_dict[\"SVM RBF\"] = modelTest(clf, train, labels)\n",
    "    \n",
    "    clf = svm.SVC(kernel='linear')\n",
    "    result_dict[\"SVM Linear\"] = modelTest(clf, train, labels)\n",
    "    \n",
    "    clf = RandomForestClassifier()\n",
    "    result_dict[\"Random Forest\"] = modelTest(clf, train, labels)\n",
    "    \n",
    "    clf = GradientBoostingClassifier()\n",
    "    result_dict[\"Gradiend Boosting\"] = modelTest(clf, train, labels)\n",
    "    \n",
    "    clf = AdaBoostClassifier()\n",
    "    result_dict[\"Ada Boost\"] = modelTest(clf, train, labels)\n",
    "    \n",
    "    model_summary = modelPlot(result_dict)\n",
    "    return model_summary"
   ]
  },
  {
   "cell_type": "code",
   "execution_count": 17,
   "metadata": {
    "collapsed": false,
    "deletable": true,
    "editable": true
   },
   "outputs": [
    {
     "data": {
      "text/html": [
       "<div>\n",
       "<table border=\"1\" class=\"dataframe\">\n",
       "  <thead>\n",
       "    <tr style=\"text-align: right;\">\n",
       "      <th></th>\n",
       "      <th>Score</th>\n",
       "    </tr>\n",
       "  </thead>\n",
       "  <tbody>\n",
       "    <tr>\n",
       "      <th>SVM RBF</th>\n",
       "      <td>0.415694</td>\n",
       "    </tr>\n",
       "    <tr>\n",
       "      <th>SVM Linear</th>\n",
       "      <td>0.415694</td>\n",
       "    </tr>\n",
       "    <tr>\n",
       "      <th>Ada Boost</th>\n",
       "      <td>0.399798</td>\n",
       "    </tr>\n",
       "    <tr>\n",
       "      <th>Random Forest</th>\n",
       "      <td>0.394818</td>\n",
       "    </tr>\n",
       "    <tr>\n",
       "      <th>Gradiend Boosting</th>\n",
       "      <td>0.392882</td>\n",
       "    </tr>\n",
       "  </tbody>\n",
       "</table>\n",
       "</div>"
      ],
      "text/plain": [
       "                      Score\n",
       "SVM RBF            0.415694\n",
       "SVM Linear         0.415694\n",
       "Ada Boost          0.399798\n",
       "Random Forest      0.394818\n",
       "Gradiend Boosting  0.392882"
      ]
     },
     "execution_count": 17,
     "metadata": {},
     "output_type": "execute_result"
    },
    {
     "data": {
      "image/png": "[encoded data removed]",
      "text/plain": [
       "<matplotlib.figure.Figure at 0x10aac8a58>"
      ]
     },
     "metadata": {},
     "output_type": "display_data"
    }
   ],
   "source": [
    "modelFit(X, y)"
   ]
  },
  {
   "cell_type": "markdown",
   "metadata": {},
   "source": [
    "The result reveals that using prediction model can improve the performance rather than randomly choosing"
   ]
  },
  {
   "cell_type": "code",
   "execution_count": null,
   "metadata": {
    "collapsed": true
   },
   "outputs": [],
   "source": []
  }
 ],
 "metadata": {
  "kernelspec": {
   "display_name": "Python 3",
   "language": "python",
   "name": "python3"
  },
  "language_info": {
   "codemirror_mode": {
    "name": "ipython",
    "version": 3
   },
   "file_extension": ".py",
   "mimetype": "text/x-python",
   "name": "python",
   "nbconvert_exporter": "python",
   "pygments_lexer": "ipython3",
   "version": "3.5.2"
  },
  "toc": {
   "colors": {
    "hover_highlight": "#DAA520",
    "running_highlight": "#FF0000",
    "selected_highlight": "#FFD700"
   },
   "moveMenuLeft": true,
   "nav_menu": {
    "height": "66px",
    "width": "252px"
   },
   "navigate_menu": true,
   "number_sections": true,
   "sideBar": true,
   "threshold": 4,
   "toc_cell": false,
   "toc_section_display": "block",
   "toc_window_display": false
  }
 },
 "nbformat": 4,
 "nbformat_minor": 2
}
